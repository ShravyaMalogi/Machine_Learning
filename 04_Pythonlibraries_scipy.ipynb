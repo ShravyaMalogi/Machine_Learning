{
  "nbformat": 4,
  "nbformat_minor": 0,
  "metadata": {
    "colab": {
      "provenance": []
    },
    "kernelspec": {
      "name": "python3",
      "display_name": "Python 3"
    },
    "language_info": {
      "name": "python"
    }
  },
  "cells": [
    {
      "cell_type": "code",
      "source": [
        "!pip install scipy"
      ],
      "metadata": {
        "colab": {
          "base_uri": "https://localhost:8080/"
        },
        "id": "8l-XNVxfYS_4",
        "outputId": "e9703994-92e4-419c-abe9-ca82cfbb9388"
      },
      "execution_count": 6,
      "outputs": [
        {
          "output_type": "stream",
          "name": "stdout",
          "text": [
            "Requirement already satisfied: scipy in /usr/local/lib/python3.10/dist-packages (1.13.1)\n",
            "Requirement already satisfied: numpy<2.3,>=1.22.4 in /usr/local/lib/python3.10/dist-packages (from scipy) (1.26.4)\n"
          ]
        }
      ]
    },
    {
      "cell_type": "code",
      "execution_count": 8,
      "metadata": {
        "colab": {
          "base_uri": "https://localhost:8080/"
        },
        "id": "BKFa9BI9b11N",
        "outputId": "d6534c1c-d022-4680-fd5f-0d45129604aa"
      },
      "outputs": [
        {
          "output_type": "stream",
          "name": "stdout",
          "text": [
            "Mode: 50\n",
            "Integration Result: 0.33333333333333337\n",
            "Optimization Result (Minimum of the Function): 3.0000000283269603\n"
          ]
        }
      ],
      "source": [
        "# Import necessary libraries\n",
        "from scipy import stats, integrate, optimize\n",
        "\n",
        "# Sample data for mode calculation\n",
        "data = [10, 20, 20, 30, 40, 50, 50, 50, 60, 70]\n",
        "\n",
        "# Calculate mode\n",
        "mode_result = stats.mode(data, keepdims=True)  # Use `keepdims=True` for compatibility\n",
        "mode_value = mode_result.mode[0]  # Extract the mode value\n",
        "\n",
        "# Define a function for integration (example: f(x) = x^2)\n",
        "def func(x):\n",
        "    return x**2\n",
        "\n",
        "# Perform integration of f(x) = x^2 from 0 to 1\n",
        "integration_result, _ = integrate.quad(func, 0, 1)\n",
        "\n",
        "# Define a function for optimization (example: f(x) = (x - 3)^2 + 2)\n",
        "def objective_function(x):\n",
        "    return (x - 3)**2 + 2\n",
        "\n",
        "# Perform optimization to find the minimum of the objective function\n",
        "optimization_result = optimize.minimize(objective_function, x0=0).x[0]\n",
        "\n",
        "# Print results\n",
        "print(\"Mode:\", mode_value)\n",
        "print(\"Integration Result:\", integration_result)\n",
        "print(\"Optimization Result (Minimum of the Function):\", optimization_result)"
      ]
    }
  ]
}