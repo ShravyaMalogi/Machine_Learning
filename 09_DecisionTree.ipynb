{
  "nbformat": 4,
  "nbformat_minor": 0,
  "metadata": {
    "colab": {
      "provenance": []
    },
    "kernelspec": {
      "name": "python3",
      "display_name": "Python 3"
    },
    "language_info": {
      "name": "python"
    }
  },
  "cells": [
    {
      "cell_type": "code",
      "source": [
        "import pandas as pd\n",
        "\n",
        "# Create a dictionary with the data\n",
        "data = {\n",
        "    'price': [300000, 450000, 200000, 500000, 320000, 310000, 600000, 250000, 280000, 450000],\n",
        "    'bedrooms': [3, 4, 2, 5, 3, 3, 4, 2, 3, 4],\n",
        "    'bathrooms': [2, 3, 1, 4, 2, 2, 3, 1, 2, 3],\n",
        "    'sqft': [1500, 2000, 800, 2500, 1600, 1700, 2200, 1000, 1400, 2100],\n",
        "    'neighborhood': ['Suburban', 'Urban', 'Rural', 'Urban', 'Suburban', 'Rural', 'Urban', 'Rural', 'Suburban', 'Suburban']\n",
        "}\n",
        "\n",
        "# Create a DataFrame\n",
        "df = pd.DataFrame(data)\n",
        "\n",
        "# Save the DataFrame to a CSV file\n",
        "df.to_csv('house_prices.csv', index=False)"
      ],
      "metadata": {
        "id": "sBlHE0IoeyaG"
      },
      "execution_count": 5,
      "outputs": []
    },
    {
      "cell_type": "code",
      "execution_count": 6,
      "metadata": {
        "colab": {
          "base_uri": "https://localhost:8080/"
        },
        "id": "BKFa9BI9b11N",
        "outputId": "326ab0af-21ee-448a-de03-0ef9b7487b24"
      },
      "outputs": [
        {
          "output_type": "stream",
          "name": "stdout",
          "text": [
            "Mean Squared Error: 1488754882.8125525\n",
            "R-squared: 0.7939439608563941\n",
            "Intercept: 116765.62499997707\n",
            "Coefficients: [-62484.37499998 -62484.37500001    313.4375      50687.5\n",
            " 196531.25      ]\n"
          ]
        }
      ],
      "source": [
        "import numpy as np\n",
        "import pandas as pd\n",
        "from sklearn.model_selection import train_test_split\n",
        "from sklearn.linear_model import LinearRegression\n",
        "from sklearn.metrics import mean_squared_error, r2_score\n",
        "\n",
        "# Load the dataset\n",
        "df = pd.read_csv('house_prices.csv')\n",
        "\n",
        "# Handle missing values\n",
        "df = df.dropna()\n",
        "\n",
        "# Encode categorical variables if any (example: 'neighborhood')\n",
        "df = pd.get_dummies(df, columns=['neighborhood'], drop_first=True)\n",
        "\n",
        "# Define features and target variable\n",
        "X = df.drop('price', axis=1)  # Assuming 'price' is the target variable\n",
        "y = df['price']\n",
        "\n",
        "# Split the data into training and testing sets\n",
        "X_train, X_test, y_train, y_test = train_test_split(X, y, test_size=0.2, random_state=42)\n",
        "\n",
        "# Initialize and train the model\n",
        "model = LinearRegression()\n",
        "model.fit(X_train, y_train)\n",
        "\n",
        "# Make predictions\n",
        "y_pred = model.predict(X_test)\n",
        "\n",
        "# Evaluate the model\n",
        "mse = mean_squared_error(y_test, y_pred)\n",
        "r2 = r2_score(y_test, y_pred)\n",
        "\n",
        "print(f'Mean Squared Error: {mse}')\n",
        "print(f'R-squared: {r2}')\n",
        "\n",
        "# Interpret the results\n",
        "print(f'Intercept: {model.intercept_}')\n",
        "print(f'Coefficients: {model.coef_}')"
      ]
    }
  ]
}