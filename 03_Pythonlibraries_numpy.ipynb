{
  "nbformat": 4,
  "nbformat_minor": 0,
  "metadata": {
    "colab": {
      "provenance": []
    },
    "kernelspec": {
      "name": "python3",
      "display_name": "Python 3"
    },
    "language_info": {
      "name": "python"
    }
  },
  "cells": [
    {
      "cell_type": "code",
      "execution_count": 3,
      "metadata": {
        "colab": {
          "base_uri": "https://localhost:8080/"
        },
        "id": "BKFa9BI9b11N",
        "outputId": "e7b4193e-d647-4f11-d477-4e5a1a2ab268"
      },
      "outputs": [
        {
          "output_type": "stream",
          "name": "stdout",
          "text": [
            "Mean: 40.0\n",
            "Median: 45.0\n",
            "Mode: 50\n",
            "Standard Deviation: 18.439088914585774\n",
            "Variance: 340.0\n"
          ]
        }
      ],
      "source": [
        "# Import the numpy library\n",
        "import numpy as np\n",
        "\n",
        "# Sample data\n",
        "data = np.array([10, 20, 20, 30, 40, 50, 50, 50, 60, 70])\n",
        "\n",
        "# Calculate mean\n",
        "mean = np.mean(data)\n",
        "\n",
        "# Calculate median\n",
        "median = np.median(data)\n",
        "\n",
        "# Calculate mode (using numpy unique with counts)\n",
        "unique_values, counts = np.unique(data, return_counts=True)\n",
        "mode = unique_values[np.argmax(counts)]\n",
        "\n",
        "# Calculate standard deviation\n",
        "std_dev = np.std(data)\n",
        "\n",
        "# Calculate variance\n",
        "variance = np.var(data)\n",
        "\n",
        "# Print results\n",
        "print(\"Mean:\", mean)\n",
        "print(\"Median:\", median)\n",
        "print(\"Mode:\", mode)\n",
        "print(\"Standard Deviation:\", std_dev)\n",
        "print(\"Variance:\", variance)"
      ]
    }
  ]
}