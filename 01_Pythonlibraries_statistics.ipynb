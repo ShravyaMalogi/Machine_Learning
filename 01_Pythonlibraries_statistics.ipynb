{
  "nbformat": 4,
  "nbformat_minor": 0,
  "metadata": {
    "colab": {
      "provenance": []
    },
    "kernelspec": {
      "name": "python3",
      "display_name": "Python 3"
    },
    "language_info": {
      "name": "python"
    }
  },
  "cells": [
    {
      "cell_type": "code",
      "execution_count": 1,
      "metadata": {
        "colab": {
          "base_uri": "https://localhost:8080/"
        },
        "id": "BKFa9BI9b11N",
        "outputId": "1aacecf1-98a7-4af4-85c2-dc6b601ef2b4"
      },
      "outputs": [
        {
          "output_type": "stream",
          "name": "stdout",
          "text": [
            "Mean: 40\n",
            "Median: 45.0\n",
            "Mode: 50\n",
            "Standard Deviation: 19.436506316151\n",
            "Variance: 377.77777777777777\n"
          ]
        }
      ],
      "source": [
        "# Import necessary library\n",
        "import statistics\n",
        "\n",
        "# Sample data\n",
        "data = [10, 20, 20, 30, 40, 50, 50, 50, 60, 70]\n",
        "\n",
        "# Calculate mean\n",
        "mean = statistics.mean(data)\n",
        "\n",
        "# Calculate median\n",
        "median = statistics.median(data)\n",
        "\n",
        "# Calculate mode\n",
        "mode = statistics.mode(data)\n",
        "\n",
        "# Calculate standard deviation\n",
        "std_dev = statistics.stdev(data)\n",
        "\n",
        "# Calculate variance\n",
        "variance = statistics.variance(data)\n",
        "\n",
        "# Print results\n",
        "print(\"Mean:\", mean)\n",
        "print(\"Median:\", median)\n",
        "print(\"Mode:\", mode)\n",
        "print(\"Standard Deviation:\", std_dev)\n",
        "print(\"Variance:\", variance)"
      ]
    }
  ]
}