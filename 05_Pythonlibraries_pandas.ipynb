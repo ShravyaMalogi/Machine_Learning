{
  "nbformat": 4,
  "nbformat_minor": 0,
  "metadata": {
    "colab": {
      "provenance": []
    },
    "kernelspec": {
      "name": "python3",
      "display_name": "Python 3"
    },
    "language_info": {
      "name": "python"
    }
  },
  "cells": [
    {
      "cell_type": "code",
      "execution_count": 14,
      "metadata": {
        "colab": {
          "base_uri": "https://localhost:8080/"
        },
        "id": "BKFa9BI9b11N",
        "outputId": "d346c610-fecd-44a1-f5db-ef151481b4f7"
      },
      "outputs": [
        {
          "output_type": "stream",
          "name": "stdout",
          "text": [
            "      Name  Age         City\n",
            "0    Alice   45     New York\n",
            "1      Bob   40  Los Angeles\n",
            "2  Charlie   35      Chicago\n",
            "3    David   25      Houston\n",
            "4      Eve   30      Phoenix\n",
            "\n",
            "Average Age: 35.0\n",
            "\n",
            "Residents from Chicago:\n",
            "\n",
            "      Name  Age     City\n",
            "2  Charlie   35  Chicago\n",
            "\n",
            "Sorted by Age:\n",
            "      Name  Age         City\n",
            "3    David   25      Houston\n",
            "4      Eve   30      Phoenix\n",
            "2  Charlie   35      Chicago\n",
            "1      Bob   40  Los Angeles\n",
            "0    Alice   45     New York\n"
          ]
        }
      ],
      "source": [
        "# Import necessary library\n",
        "import pandas as pd\n",
        "\n",
        "# Sample data: name, age, and city\n",
        "data = {\n",
        "    'Name': ['Alice', 'Bob', 'Charlie', 'David', 'Eve'],\n",
        "    'Age': [45, 40, 35, 25, 30],\n",
        "    'City': ['New York', 'Los Angeles', 'Chicago', 'Houston', 'Phoenix']\n",
        "}\n",
        "\n",
        "# Create a DataFrame from the sample data\n",
        "df = pd.DataFrame(data)\n",
        "\n",
        "# Display the DataFrame\n",
        "print(df)\n",
        "\n",
        "# Perform basic operations:\n",
        "# Calculate the average age\n",
        "average_age = df['Age'].mean()\n",
        "print(\"\\nAverage Age:\", average_age)\n",
        "\n",
        "# Find people living in 'Chicago'\n",
        "chicago_residents = df[df['City'] == 'Chicago']\n",
        "print(\"\\nResidents from Chicago:\\n\")\n",
        "print(chicago_residents)\n",
        "\n",
        "# Sort by age\n",
        "sorted_by_age = df.sort_values(by='Age')\n",
        "print(\"\\nSorted by Age:\")\n",
        "print(sorted_by_age)"
      ]
    }
  ]
}