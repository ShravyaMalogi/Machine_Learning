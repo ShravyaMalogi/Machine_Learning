{
  "nbformat": 4,
  "nbformat_minor": 0,
  "metadata": {
    "colab": {
      "provenance": []
    },
    "kernelspec": {
      "name": "python3",
      "display_name": "Python 3"
    },
    "language_info": {
      "name": "python"
    }
  },
  "cells": [
    {
      "cell_type": "code",
      "execution_count": 2,
      "metadata": {
        "colab": {
          "base_uri": "https://localhost:8080/"
        },
        "id": "BKFa9BI9b11N",
        "outputId": "ee018ee1-51b4-4dfa-fc6d-5b2fa0de4874"
      },
      "outputs": [
        {
          "output_type": "stream",
          "name": "stdout",
          "text": [
            "Square root of 16 is 4.0\n",
            "9 squared is 81.0\n",
            "Factorial of 5 is 120\n",
            "Sine of 30 degrees is 0.49999999999999994\n",
            "Cosine of 60 degrees is 0.5000000000000001\n",
            "Natural logarithm of 16 is 2.772588722239781\n",
            "Logarithm base 10 of 16 is 1.2041199826559248\n",
            "Value of π: 3.141592653589793\n",
            "Value of e: 2.718281828459045\n"
          ]
        }
      ],
      "source": [
        "# Import the math library\n",
        "import math\n",
        "\n",
        "# Example numbers\n",
        "a = 16\n",
        "b = 9\n",
        "c = 3.14159\n",
        "\n",
        "# Perform basic math operations\n",
        "square_root_a = math.sqrt(a)  # Calculate the square root of a\n",
        "square_b = math.pow(b, 2)     # Calculate b raised to the power of 2\n",
        "factorial_c = math.factorial(5)  # Calculate the factorial of 5\n",
        "\n",
        "# Trigonometric calculations\n",
        "sine_c = math.sin(math.radians(30))  # Sine of 30 degrees\n",
        "cosine_c = math.cos(math.radians(60))  # Cosine of 60 degrees\n",
        "\n",
        "# Logarithmic calculations\n",
        "natural_log = math.log(a)  # Natural logarithm of a\n",
        "log_base_10 = math.log10(a)  # Logarithm base 10 of a\n",
        "\n",
        "# Constants\n",
        "pi_value = math.pi  # Value of π\n",
        "e_value = math.e    # Value of e\n",
        "\n",
        "# Print results\n",
        "print(\"Square root of\", a, \"is\", square_root_a)\n",
        "print(b, \"squared is\", square_b)\n",
        "print(\"Factorial of 5 is\", factorial_c)\n",
        "print(\"Sine of 30 degrees is\", sine_c)\n",
        "print(\"Cosine of 60 degrees is\", cosine_c)\n",
        "print(\"Natural logarithm of\", a, \"is\", natural_log)\n",
        "print(\"Logarithm base 10 of\", a, \"is\", log_base_10)\n",
        "print(\"Value of π:\", pi_value)\n",
        "print(\"Value of e:\", e_value)"
      ]
    }
  ]
}