{
  "nbformat": 4,
  "nbformat_minor": 0,
  "metadata": {
    "colab": {
      "provenance": []
    },
    "kernelspec": {
      "name": "python3",
      "display_name": "Python 3"
    },
    "language_info": {
      "name": "python"
    }
  },
  "cells": [
    {
      "cell_type": "code",
      "source": [
        "import numpy as np\n",
        "import pandas as pd\n",
        "from sklearn.model_selection import train_test_split, GridSearchCV\n",
        "from sklearn.linear_model import LogisticRegression\n",
        "from sklearn.metrics import accuracy_score, confusion_matrix, classification_report\n",
        "\n",
        "import warnings\n",
        "warnings.filterwarnings('ignore')\n",
        "\n",
        "# Generate a sample dataset and save it as a CSV file\n",
        "data = {\n",
        "    'age': [25, 30, 35, 40],\n",
        "    'income': [50000, 60000, 70000, 80000],\n",
        "    'education': ['Bachelors', 'Masters', 'PhD', 'Bachelors'],\n",
        "    'target': [0, 1, 0, 1]\n",
        "}\n",
        "df = pd.DataFrame(data)\n",
        "df.to_csv('data.csv', index=False)\n",
        "\n",
        "# Load the dataset\n",
        "df = pd.read_csv('data.csv')\n",
        "\n",
        "# Preprocess the data\n",
        "df = pd.get_dummies(df, columns=['education'], drop_first=True)  # Encode categorical variables\n",
        "X = df.drop('target', axis=1)  # Define features\n",
        "y = df['target']  # Define target variable\n",
        "\n",
        "# Split the data\n",
        "X_train, X_test, y_train, y_test = train_test_split(X, y, test_size=0.25, random_state=42)\n",
        "\n",
        "# Define the parameter grid with valid combinations of penalties and solvers\n",
        "param_grid = [\n",
        "    {'penalty': ['l2'], 'solver': ['lbfgs'], 'C': [0.1, 1, 10, 100]},\n",
        "    {'penalty': ['l1'], 'solver': ['liblinear'], 'C': [0.1, 1, 10, 100]},\n",
        "    {'penalty': ['elasticnet'], 'solver': ['saga'], 'C': [0.1, 1, 10, 100], 'l1_ratio': [0.5]},\n",
        "    {'penalty': ['none'], 'solver': ['lbfgs'], 'C': [0.1, 1, 10, 100]}\n",
        "]\n",
        "\n",
        "# Initialize and perform GridSearchCV with reduced cv\n",
        "grid_search = GridSearchCV(\n",
        "    estimator=LogisticRegression(random_state=42, max_iter=1000),\n",
        "    param_grid=param_grid,\n",
        "    cv=2,  # Reduce cv due to limited data\n",
        "    scoring='accuracy',\n",
        "    n_jobs=-1\n",
        ")\n",
        "grid_search.fit(X_train, y_train)\n",
        "\n",
        "# Retrieve the best parameters and model\n",
        "best_params = grid_search.best_params_\n",
        "best_estimator = grid_search.best_estimator_\n",
        "\n",
        "print(f'Best Parameters: {best_params}')\n",
        "\n",
        "# Evaluate the best model\n",
        "y_pred_best = best_estimator.predict(X_test)\n",
        "\n",
        "accuracy_best = accuracy_score(y_test, y_pred_best)\n",
        "conf_matrix_best = confusion_matrix(y_test, y_pred_best)\n",
        "class_report_best = classification_report(y_test, y_pred_best)\n",
        "\n",
        "print(f'Best Model Accuracy: {accuracy_best}')\n",
        "print(f'Best Model Confusion Matrix:\\n{conf_matrix_best}')\n",
        "print(f'Best Model Classification Report:\\n{class_report_best}')"
      ],
      "metadata": {
        "colab": {
          "base_uri": "https://localhost:8080/"
        },
        "id": "w7_Q0BA4lHIn",
        "outputId": "f796ba2d-4391-4404-a136-8a43591b6766"
      },
      "execution_count": 18,
      "outputs": [
        {
          "output_type": "stream",
          "name": "stdout",
          "text": [
            "Best Parameters: {'C': 0.1, 'penalty': 'l2', 'solver': 'lbfgs'}\n",
            "Best Model Accuracy: 0.0\n",
            "Best Model Confusion Matrix:\n",
            "[[0 0]\n",
            " [1 0]]\n",
            "Best Model Classification Report:\n",
            "              precision    recall  f1-score   support\n",
            "\n",
            "           0       0.00      0.00      0.00       0.0\n",
            "           1       0.00      0.00      0.00       1.0\n",
            "\n",
            "    accuracy                           0.00       1.0\n",
            "   macro avg       0.00      0.00      0.00       1.0\n",
            "weighted avg       0.00      0.00      0.00       1.0\n",
            "\n"
          ]
        }
      ]
    }
  ]
}