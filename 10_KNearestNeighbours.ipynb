{
  "nbformat": 4,
  "nbformat_minor": 0,
  "metadata": {
    "colab": {
      "provenance": []
    },
    "kernelspec": {
      "name": "python3",
      "display_name": "Python 3"
    },
    "language_info": {
      "name": "python"
    }
  },
  "cells": [
    {
      "cell_type": "code",
      "source": [
        "import numpy as np\n",
        "import pandas as pd\n",
        "from sklearn.model_selection import train_test_split, GridSearchCV\n",
        "from sklearn.neighbors import KNeighborsRegressor\n",
        "from sklearn.metrics import mean_squared_error, r2_score\n",
        "\n",
        "# Load the dataset\n",
        "df = pd.read_csv('house_prices.csv')\n",
        "\n",
        "# Explore the dataset\n",
        "print(df.head())\n",
        "print(df.info())\n",
        "print(df.describe())\n",
        "\n",
        "# Preprocess the data\n",
        "df = df.dropna()\n",
        "df = pd.get_dummies(df, columns=['neighborhood'], drop_first=True)\n",
        "X = df.drop('price', axis=1)\n",
        "y = df['price']\n",
        "\n",
        "# Split the data\n",
        "X_train, X_test, y_train, y_test = train_test_split(X, y, test_size=0.2, random_state=42)\n",
        "\n",
        "# Train the KNN model\n",
        "knn_model = KNeighborsRegressor()\n",
        "knn_model.fit(X_train, y_train)\n",
        "\n",
        "# Make predictions\n",
        "y_pred = knn_model.predict(X_test)\n",
        "\n",
        "# Evaluate the model\n",
        "mse = mean_squared_error(y_test, y_pred)\n",
        "r2 = r2_score(y_test, y_pred)\n",
        "print(f'Mean Squared Error: {mse}')\n",
        "print(f'R-squared: {r2}')\n",
        "\n",
        "# Parameter tuning using GridSearchCV\n",
        "param_grid = {\n",
        "    'n_neighbors': [3, 5, 7, 9, 11],\n",
        "    'weights': ['uniform', 'distance'],\n",
        "    'metric': ['euclidean', 'manhattan']\n",
        "}\n",
        "grid_search = GridSearchCV(estimator=KNeighborsRegressor(), param_grid=param_grid, cv=5, n_jobs=-1, scoring='r2')\n",
        "grid_search.fit(X_train, y_train)\n",
        "\n",
        "# Best parameters and estimator\n",
        "best_params = grid_search.best_params_\n",
        "best_estimator = grid_search.best_estimator_\n",
        "print(f'Best Parameters: {best_params}')\n",
        "\n",
        "# Evaluate the best model\n",
        "y_pred_best = best_estimator.predict(X_test)\n",
        "mse_best = mean_squared_error(y_test, y_pred_best)\n",
        "r2_best = r2_score(y_test, y_pred_best)\n",
        "print(f'Best Model Mean Squared Error: {mse_best}')\n",
        "print(f'Best Model R-squared: {r2_best}')\n",
        "\n",
        "print()"
      ],
      "metadata": {
        "colab": {
          "base_uri": "https://localhost:8080/"
        },
        "id": "G5AvIdmkg7RB",
        "outputId": "580e8463-295e-4ef3-e553-0eafc5536120"
      },
      "execution_count": 9,
      "outputs": [
        {
          "output_type": "stream",
          "name": "stdout",
          "text": [
            "    price  bedrooms  bathrooms  sqft neighborhood\n",
            "0  300000         3          2  1500     Suburban\n",
            "1  450000         4          3  2000        Urban\n",
            "2  200000         2          1   800        Rural\n",
            "3  500000         5          4  2500        Urban\n",
            "4  320000         3          2  1600     Suburban\n",
            "<class 'pandas.core.frame.DataFrame'>\n",
            "RangeIndex: 10 entries, 0 to 9\n",
            "Data columns (total 5 columns):\n",
            " #   Column        Non-Null Count  Dtype \n",
            "---  ------        --------------  ----- \n",
            " 0   price         10 non-null     int64 \n",
            " 1   bedrooms      10 non-null     int64 \n",
            " 2   bathrooms     10 non-null     int64 \n",
            " 3   sqft          10 non-null     int64 \n",
            " 4   neighborhood  10 non-null     object\n",
            "dtypes: int64(4), object(1)\n",
            "memory usage: 528.0+ bytes\n",
            "None\n",
            "               price   bedrooms  bathrooms         sqft\n",
            "count      10.000000  10.000000  10.000000    10.000000\n",
            "mean   366000.000000   3.300000   2.300000  1680.000000\n",
            "std    126859.502338   0.948683   0.948683   534.997404\n",
            "min    200000.000000   2.000000   1.000000   800.000000\n",
            "25%    285000.000000   3.000000   2.000000  1425.000000\n",
            "50%    315000.000000   3.000000   2.000000  1650.000000\n",
            "75%    450000.000000   4.000000   3.000000  2075.000000\n",
            "max    600000.000000   5.000000   4.000000  2500.000000\n",
            "Mean Squared Error: 106000000.0\n",
            "R-squared: 0.9853287197231834\n",
            "Best Parameters: {'metric': 'euclidean', 'n_neighbors': 3, 'weights': 'uniform'}\n",
            "Best Model Mean Squared Error: 455555555.55555546\n",
            "Best Model R-squared: 0.9369473279507882\n",
            "\n"
          ]
        },
        {
          "output_type": "stream",
          "name": "stderr",
          "text": [
            "/usr/local/lib/python3.10/dist-packages/numpy/ma/core.py:2820: RuntimeWarning: invalid value encountered in cast\n",
            "  _data = np.array(data, dtype=dtype, copy=copy,\n",
            "/usr/local/lib/python3.10/dist-packages/sklearn/model_selection/_search.py:1103: UserWarning: One or more of the test scores are non-finite: [nan nan nan nan nan nan nan nan nan nan nan nan nan nan nan nan nan nan\n",
            " nan nan]\n",
            "  warnings.warn(\n"
          ]
        }
      ]
    }
  ]
}